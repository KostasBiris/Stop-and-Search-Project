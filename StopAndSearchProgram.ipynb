{
 "cells": [
  {
   "cell_type": "markdown",
   "metadata": {},
   "source": [
    "# *Data Cleaning*"
   ]
  },
  {
   "cell_type": "markdown",
   "metadata": {},
   "source": [
    "## Delete all the unimportant files from the directories downloaded through the Metropolitan Police Dataset"
   ]
  },
  {
   "cell_type": "code",
   "execution_count": null,
   "metadata": {},
   "outputs": [],
   "source": [
    "# Delete all the unimportant files from the directories\n",
    "# downloaded through the Metropolitan Police Dataset\n",
    "import os\n",
    "\n",
    "directory = \"D:\\Old_Courses\\Masters Modules\\Individual Project\\Program\\data\"\n",
    "\n",
    "# Traverse the main directory\n",
    "for root, dirs, files in os.walk(directory):\n",
    "    # Iterate over the files in each subdirectory\n",
    "    for file in files:\n",
    "        # Check if the file name contains the desired string\n",
    "        if \"metropolitan-stop-and-search\" not in file:\n",
    "            # Create the full path to the file\n",
    "            file_path = os.path.join(root, file)\n",
    "            # Delete the file\n",
    "            os.remove(file_path)\n",
    "            print(f\"Deleted: {file_path}\")\n"
   ]
  },
  {
   "cell_type": "markdown",
   "metadata": {},
   "source": [
    "## Combine all the data together"
   ]
  },
  {
   "cell_type": "code",
   "execution_count": 15,
   "metadata": {},
   "outputs": [
    {
     "name": "stdout",
     "output_type": "stream",
     "text": [
      "Combined data saved to: D:\\Old_Courses\\Masters Modules\\Individual Project\\Program\\combined_data.csv\n"
     ]
    }
   ],
   "source": [
    "# Combine all the data together\n",
    "\n",
    "import os\n",
    "import pandas as pd\n",
    "\n",
    "directory = \"D:\\Old_Courses\\Masters Modules\\Individual Project\\Program\\data\"\n",
    "output_file = \"D:\\Old_Courses\\Masters Modules\\Individual Project\\Program\\combined_data.csv\"\n",
    "\n",
    "# Initialize an empty DataFrame to store the combined data\n",
    "combined_data = pd.DataFrame()\n",
    "\n",
    "# Traverse the main directory\n",
    "for root, dirs, files in os.walk(directory):\n",
    "    # Iterate over the files in each subdirectory\n",
    "    for file in files:\n",
    "        # Check if the file is a CSV file\n",
    "        if file.endswith(\".csv\"):\n",
    "            # Create the full path to the file\n",
    "            file_path = os.path.join(root, file)\n",
    "            # Read the CSV file into a DataFrame\n",
    "            data = pd.read_csv(file_path)\n",
    "            # Append the data to the combined DataFrame\n",
    "            combined_data = combined_data.append(data, ignore_index=True)\n",
    "\n",
    "# Save the combined data to a new CSV file\n",
    "combined_data.to_csv(output_file, index=False)\n",
    "print(f\"Combined data saved to: {output_file}\")"
   ]
  },
  {
   "cell_type": "markdown",
   "metadata": {},
   "source": [
    "## Combine only the data from 2018-2019 (Before the Covide-19 Pandemic)"
   ]
  },
  {
   "cell_type": "code",
   "execution_count": 13,
   "metadata": {},
   "outputs": [
    {
     "name": "stdout",
     "output_type": "stream",
     "text": [
      "Combined data saved to: D:\\Old_Courses\\Masters Modules\\Individual Project\\Program\\prepandemic_combined_data.csv\n"
     ]
    }
   ],
   "source": [
    "# Combine only the data from 2018-2019 (Before the Covid-19 Pandemic)\n",
    "\n",
    "import os\n",
    "import pandas as pd\n",
    "\n",
    "directory = \"D:\\Old_Courses\\Masters Modules\\Individual Project\\Program\\data\"\n",
    "output_file = \"D:\\Old_Courses\\Masters Modules\\Individual Project\\Program\\prepandemic_combined_data.csv\"\n",
    "\n",
    "# Initialize an empty DataFrame to store the combined data\n",
    "combined_data = pd.DataFrame()\n",
    "\n",
    "# Traverse the main directory\n",
    "for root, dirs, files in os.walk(directory):\n",
    "    # Filter the subdirectories based on name\n",
    "    dirs[:] = [d for d in dirs if \"2018\" in d or \"2019\" in d]\n",
    "    # Iterate over the files in each filtered subdirectory\n",
    "    for file in files:\n",
    "        # Check if the file is a CSV file\n",
    "        if file.endswith(\".csv\"):\n",
    "            # Create the full path to the file\n",
    "            file_path = os.path.join(root, file)\n",
    "            # Read the CSV file into a DataFrame\n",
    "            data = pd.read_csv(file_path)\n",
    "            # Append the data to the combined DataFrame\n",
    "            combined_data = combined_data.append(data, ignore_index=True)\n",
    "\n",
    "# Save the combined data to a new CSV file\n",
    "combined_data.to_csv(output_file, index=False)\n",
    "print(f\"Combined data saved to: {output_file}\")"
   ]
  },
  {
   "cell_type": "markdown",
   "metadata": {},
   "source": [
    "## Combine only the data  2020-2021 (During the Covid-19 Pandemic)"
   ]
  },
  {
   "cell_type": "code",
   "execution_count": 14,
   "metadata": {},
   "outputs": [
    {
     "name": "stdout",
     "output_type": "stream",
     "text": [
      "Combined data saved to: D:\\Old_Courses\\Masters Modules\\Individual Project\\Program\\pandemic_combined_data.csv\n"
     ]
    }
   ],
   "source": [
    "# Combine only the data  2020-2021 (During the Covid-19 Pandemic)\n",
    "\n",
    "import os\n",
    "import pandas as pd\n",
    "\n",
    "directory = \"D:\\Old_Courses\\Masters Modules\\Individual Project\\Program\\data\"\n",
    "output_file = \"D:\\Old_Courses\\Masters Modules\\Individual Project\\Program\\pandemic_combined_data.csv\"\n",
    "\n",
    "# Initialize an empty DataFrame to store the combined data\n",
    "combined_data = pd.DataFrame()\n",
    "\n",
    "# Traverse the main directory\n",
    "for root, dirs, files in os.walk(directory):\n",
    "    # Filter the subdirectories based on name\n",
    "    dirs[:] = [d for d in dirs if \"2020\" in d or \"2021\" in d]\n",
    "    # Iterate over the files in each filtered subdirectory\n",
    "    for file in files:\n",
    "        # Check if the file is a CSV file\n",
    "        if file.endswith(\".csv\"):\n",
    "            # Create the full path to the file\n",
    "            file_path = os.path.join(root, file)\n",
    "            # Read the CSV file into a DataFrame\n",
    "            data = pd.read_csv(file_path)\n",
    "            # Append the data to the combined DataFrame\n",
    "            combined_data = combined_data.append(data, ignore_index=True)\n",
    "\n",
    "# Save the combined data to a new CSV file\n",
    "combined_data.to_csv(output_file, index=False)\n",
    "print(f\"Combined data saved to: {output_file}\")"
   ]
  },
  {
   "cell_type": "markdown",
   "metadata": {},
   "source": [
    "## Combine only the data from 2022-2023 (During the Covid-19 Pandemic)"
   ]
  },
  {
   "cell_type": "code",
   "execution_count": 15,
   "metadata": {},
   "outputs": [
    {
     "name": "stdout",
     "output_type": "stream",
     "text": [
      "Combined data saved to: D:\\Old_Courses\\Masters Modules\\Individual Project\\Program\\postpandemic_combined_data.csv\n"
     ]
    }
   ],
   "source": [
    "# Combine only the data from 2022-2023 (During the Covid-19 Pandemic)\n",
    "\n",
    "import os\n",
    "import pandas as pd\n",
    "\n",
    "directory = \"D:\\Old_Courses\\Masters Modules\\Individual Project\\Program\\data\"\n",
    "output_file = \"D:\\Old_Courses\\Masters Modules\\Individual Project\\Program\\postpandemic_combined_data.csv\"\n",
    "\n",
    "# Initialize an empty DataFrame to store the combined data\n",
    "combined_data = pd.DataFrame()\n",
    "\n",
    "# Traverse the main directory\n",
    "for root, dirs, files in os.walk(directory):\n",
    "    # Filter the subdirectories based on name\n",
    "    dirs[:] = [d for d in dirs if \"2022\" in d or \"2023\" in d]\n",
    "    # Iterate over the files in each filtered subdirectory\n",
    "    for file in files:\n",
    "        # Check if the file is a CSV file\n",
    "        if file.endswith(\".csv\"):\n",
    "            # Create the full path to the file\n",
    "            file_path = os.path.join(root, file)\n",
    "            # Read the CSV file into a DataFrame\n",
    "            data = pd.read_csv(file_path)\n",
    "            # Append the data to the combined DataFrame\n",
    "            combined_data = combined_data.append(data, ignore_index=True)\n",
    "\n",
    "# Save the combined data to a new CSV file\n",
    "combined_data.to_csv(output_file, index=False)\n",
    "print(f\"Combined data saved to: {output_file}\")"
   ]
  },
  {
   "cell_type": "markdown",
   "metadata": {},
   "source": [
    "# *Data Analysis*"
   ]
  },
  {
   "cell_type": "markdown",
   "metadata": {},
   "source": [
    "## Count the overall sample throughout all the years"
   ]
  },
  {
   "cell_type": "code",
   "execution_count": 6,
   "metadata": {},
   "outputs": [
    {
     "name": "stdout",
     "output_type": "stream",
     "text": [
      "Total entries: 1140779\n"
     ]
    }
   ],
   "source": [
    "# Count the overall sample throughout all the years\n",
    "\n",
    "import pandas as pd\n",
    "\n",
    "file_path = \"D:\\Old_Courses\\Masters Modules\\Individual Project\\Program\\combined_data.csv\"\n",
    "\n",
    "# Read the CSV file into a DataFrame\n",
    "combined_data = pd.read_csv(file_path)\n",
    "\n",
    "# Count the total number of entries\n",
    "total_entries = combined_data.shape[0]\n",
    "\n",
    "print(f\"Total entries: {total_entries}\")"
   ]
  },
  {
   "cell_type": "markdown",
   "metadata": {},
   "source": [
    "## Count only the pre-pandemic sample throughout 2018-2019"
   ]
  },
  {
   "cell_type": "code",
   "execution_count": 7,
   "metadata": {},
   "outputs": [
    {
     "name": "stdout",
     "output_type": "stream",
     "text": [
      "Pre-pandemic entries: 415224\n"
     ]
    }
   ],
   "source": [
    "# Count the pre-pandemimc sample throughout 2018-2019\n",
    "\n",
    "import pandas as pd\n",
    "\n",
    "file_path = \"D:\\Old_Courses\\Masters Modules\\Individual Project\\Program\\prepandemic_combined_data.csv\"\n",
    "\n",
    "# Read the CSV file into a DataFrame\n",
    "combined_data = pd.read_csv(file_path)\n",
    "\n",
    "# Count the total number of entries\n",
    "total_entries = combined_data.shape[0]\n",
    "\n",
    "print(f\"Pre-pandemic entries: {total_entries}\")"
   ]
  },
  {
   "cell_type": "markdown",
   "metadata": {},
   "source": [
    "## Count the pandemic sample throughout 2020-2021"
   ]
  },
  {
   "cell_type": "code",
   "execution_count": 10,
   "metadata": {},
   "outputs": [
    {
     "name": "stdout",
     "output_type": "stream",
     "text": [
      "Pandemic entries: 542019\n"
     ]
    }
   ],
   "source": [
    "# Count the pandemimc sample throughout 2020-2021\n",
    "\n",
    "import pandas as pd\n",
    "\n",
    "file_path = \"D:\\Old_Courses\\Masters Modules\\Individual Project\\Program\\pandemic_combined_data.csv\"\n",
    "\n",
    "# Read the CSV file into a DataFrame\n",
    "combined_data = pd.read_csv(file_path)\n",
    "\n",
    "# Count the total number of entries\n",
    "total_entries = combined_data.shape[0]\n",
    "\n",
    "print(f\"Pandemic entries: {total_entries}\")"
   ]
  },
  {
   "cell_type": "markdown",
   "metadata": {},
   "source": [
    "## Count the post-pandemic sample throughout 2022-2023"
   ]
  },
  {
   "cell_type": "code",
   "execution_count": 16,
   "metadata": {},
   "outputs": [
    {
     "name": "stdout",
     "output_type": "stream",
     "text": [
      "Post-pandemic entries: 183536\n"
     ]
    }
   ],
   "source": [
    "# Count the post-pandemimc sample throughout 2022-2023\n",
    "\n",
    "import pandas as pd\n",
    "\n",
    "file_path = \"D:\\Old_Courses\\Masters Modules\\Individual Project\\Program\\postpandemic_combined_data.csv\"\n",
    "\n",
    "# Read the CSV file into a DataFrame\n",
    "combined_data = pd.read_csv(file_path)\n",
    "\n",
    "# Count the total number of entries\n",
    "total_entries = combined_data.shape[0]\n",
    "\n",
    "print(f\"Post-pandemic entries: {total_entries}\")"
   ]
  },
  {
   "cell_type": "markdown",
   "metadata": {},
   "source": [
    "## Print the Different Ethnic Categories defined by the Police"
   ]
  },
  {
   "cell_type": "code",
   "execution_count": 21,
   "metadata": {},
   "outputs": [
    {
     "name": "stdout",
     "output_type": "stream",
     "text": [
      "Different values in the 'Self-defined ethnicity' column:\n",
      "White - Any other White background\n",
      "Black/African/Caribbean/Black British - Caribbean\n",
      "Black/African/Caribbean/Black British - African\n",
      "Black/African/Caribbean/Black British - Any other Black/African/Caribbean background\n",
      "Asian/Asian British - Any other Asian background\n",
      "Mixed/Multiple ethnic groups - Any other Mixed/Multiple ethnic background\n",
      "Other ethnic group - Not stated\n",
      "Other ethnic group - Any other ethnic group\n",
      "White - English/Welsh/Scottish/Northern Irish/British\n",
      "Mixed/Multiple ethnic groups - White and Black Caribbean\n",
      "Asian/Asian British - Bangladeshi\n",
      "Asian/Asian British - Pakistani\n",
      "nan\n",
      "Asian/Asian British - Indian\n",
      "Mixed/Multiple ethnic groups - White and Black African\n",
      "White - Irish\n",
      "Asian/Asian British - Chinese\n",
      "Mixed/Multiple ethnic groups - White and Asian\n"
     ]
    }
   ],
   "source": [
    "import pandas as pd\n",
    "\n",
    "file_path = \"D:\\Old_Courses\\Masters Modules\\Individual Project\\Program\\combined_data.csv\"\n",
    "\n",
    "# Read the CSV file into a DataFrame\n",
    "combined_data = pd.read_csv(file_path)\n",
    "\n",
    "# Retrieve the unique values in the \"Self-defined ethnicity\" column\n",
    "ethnicity_values = combined_data[\"Self-defined ethnicity\"].unique()\n",
    "\n",
    "# Print the different values\n",
    "print(\"Different values in the 'Self-defined ethnicity' column:\")\n",
    "for value in ethnicity_values:\n",
    "    print(value)\n"
   ]
  },
  {
   "cell_type": "markdown",
   "metadata": {},
   "source": [
    "## Count the overall number of each ethnicity in the whole sample"
   ]
  },
  {
   "cell_type": "code",
   "execution_count": 37,
   "metadata": {},
   "outputs": [
    {
     "name": "stdout",
     "output_type": "stream",
     "text": [
      "Total entries with 'White British' ethnicity: 225822\n",
      "Total entries with 'White Other' ethnicity: 129083\n",
      "Total entries with 'Black' ethnicity: 309471\n",
      "Total entries with 'South Asian' ethnicity: 75389\n",
      "Total entries with 'East Asian' ethnicity: 77522\n",
      "Total entries with 'Other' ethnicity: 2826\n"
     ]
    },
    {
     "data": {
      "text/plain": [
       "Text(0, 0.5, 'Count')"
      ]
     },
     "execution_count": 37,
     "metadata": {},
     "output_type": "execute_result"
    },
    {
     "data": {
      "image/png": "[encoded data removed]",
      "text/plain": [
       "<Figure size 576x432 with 1 Axes>"
      ]
     },
     "metadata": {
      "needs_background": "light"
     },
     "output_type": "display_data"
    }
   ],
   "source": [
    "import pandas as pd\n",
    "import matplotlib.pyplot as plt\n",
    "\n",
    "file_path = \"D:\\Old_Courses\\Masters Modules\\Individual Project\\Program\\combined_data.csv\"\n",
    "\n",
    "# Read the CSV file into a DataFrame\n",
    "combined_data = pd.read_csv(file_path)\n",
    "\n",
    "# Fill missing values in the \"Self-defined ethnicity\" column with a default value\n",
    "combined_data[\"Self-defined ethnicity\"].fillna(\"\", inplace=True)\n",
    "\n",
    "# Filter the DataFrame based on the \"Self-defined ethnicity\" column\n",
    "\n",
    "# Europeans\n",
    "white_uk_filtered_data = combined_data[combined_data[\"Self-defined ethnicity\"].str.contains(\"White - English/Welsh/Scottish/Northern Irish/British\")]\n",
    "white_irish_filtered_data = combined_data[combined_data[\"Self-defined ethnicity\"].str.contains(\"White - Irish\")]\n",
    "white_other_filtered_data = combined_data[combined_data[\"Self-defined ethnicity\"].str.contains(\"White - Any other White background\")]\n",
    "\n",
    "# Blacks\n",
    "black_filtered_data = combined_data[combined_data[\"Self-defined ethnicity\"].str.contains(\"Black\")]\n",
    "\n",
    "# South-Asians\n",
    "indian_filtered_data = combined_data[combined_data[\"Self-defined ethnicity\"].str.contains(\"Indian\")]\n",
    "pakistani_filtered_data = combined_data[combined_data[\"Self-defined ethnicity\"].str.contains(\"Pakistani\")]\n",
    "bangladeshi_filtered_data = combined_data[combined_data[\"Self-defined ethnicity\"].str.contains(\"Bangladeshi\")]\n",
    "\n",
    "# East-Asians\n",
    "chinese_filtered_data = combined_data[combined_data[\"Self-defined ethnicity\"].str.contains(\"Chinese\")]\n",
    "other_asian_filtered_data = combined_data[combined_data[\"Self-defined ethnicity\"].str.contains(\"Asian/Asian British - Any other Asian background\")]\n",
    "\n",
    "# Mixed and unknown\n",
    "mixed_asian_filtered_data = combined_data[combined_data[\"Self-defined ethnicity\"].str.contains(\"Mixed/Multiple ethnic groups - White and Asian\")]\n",
    "other_ethnic_group = combined_data[combined_data[\"Self-defined ethnicity\"].str.contains(\"Other ethnic group\")]\n",
    "\n",
    "\n",
    "# Count the number of entries\n",
    "total_white_british_entries = white_uk_filtered_data.shape[0] + white_irish_filtered_data.shape[0]\n",
    "total_white_other_entries = white_other_filtered_data.shape[0]\n",
    "total_black_entries = black_filtered_data.shape[0]\n",
    "total_south_asian_entries = indian_filtered_data.shape[0] + pakistani_filtered_data.shape[0] + bangladeshi_filtered_data.shape[0]\n",
    "total_east_asian_entries = chinese_filtered_data.shape[0] + other_asian_filtered_data.shape[0]\n",
    "total_other_entries = mixed_asian_filtered_data.shape[0]\n",
    "\n",
    "# Print the total counts\n",
    "print(f\"Total entries with 'White British' ethnicity: {total_white_british_entries}\")\n",
    "print(f\"Total entries with 'White Other' ethnicity: {total_white_other_entries}\")\n",
    "print(f\"Total entries with 'Black' ethnicity: {total_black_entries}\")\n",
    "print(f\"Total entries with 'South Asian' ethnicity: {total_south_asian_entries}\")\n",
    "print(f\"Total entries with 'East Asian' ethnicity: {total_east_asian_entries}\")\n",
    "print(f\"Total entries with 'Other' ethnicity: {total_other_entries}\")\n",
    "\n",
    "# Create a histogram\n",
    "labels = ['White British', 'White Other', 'Black', 'South Asian', 'East Asian', 'Other']\n",
    "counts = [total_white_british_entries, total_white_other_entries, total_black_entries, total_south_asian_entries, total_east_asian_entries, total_other_entries]\n",
    "\n",
    "plt.figure(figsize=(8, 6))  # Adjust figure size\n",
    "plt.bar(labels, counts)\n",
    "plt.xlabel('Ethnicity')\n",
    "plt.ylabel('Count')\n"
   ]
  },
  {
   "cell_type": "markdown",
   "metadata": {},
   "source": [
    "## Officers' ethnicities"
   ]
  },
  {
   "cell_type": "code",
   "execution_count": 38,
   "metadata": {},
   "outputs": [
    {
     "name": "stdout",
     "output_type": "stream",
     "text": [
      "Different values in the 'Officer-defined ethnicity' column:\n",
      "White\n",
      "Black\n",
      "Other\n",
      "Asian\n",
      "nan\n"
     ]
    }
   ],
   "source": [
    "import pandas as pd\n",
    "\n",
    "file_path = \"D:\\Old_Courses\\Masters Modules\\Individual Project\\Program\\combined_data.csv\"\n",
    "\n",
    "# Read the CSV file into a DataFrame\n",
    "combined_data = pd.read_csv(file_path)\n",
    "\n",
    "# Retrieve the unique values in the \"Self-defined ethnicity\" column\n",
    "ethnicity_values = combined_data[\"Officer-defined ethnicity\"].unique()\n",
    "\n",
    "# Print the different values\n",
    "print(\"Different values in the 'Officer-defined ethnicity' column:\")\n",
    "for value in ethnicity_values:\n",
    "    print(value)\n",
    "    \n",
    "import pandas as pd\n",
    "import matplotlib.pyplot as plt\n",
    "\n",
    "file_path = \"D:\\Old_Courses\\Masters Modules\\Individual Project\\Program\\combined_data.csv\"\n",
    "\n",
    "# Read the CSV file into a DataFrame\n",
    "combined_data = pd.read_csv(file_path)\n",
    "\n",
    "# Fill missing values in the \"Self-defined ethnicity\" column with a default value\n",
    "combined_data[\"Self-defined ethnicity\"].fillna(\"\", inplace=True)\n",
    "\n",
    "# Filter the DataFrame based on the \"Self-defined ethnicity\" column\n",
    "\n",
    "# Whites\n",
    "white_filtered_data = combined_data[combined_data[\"Officer-defined ethnicity\"].str.contains(\"White\")]\n",
    "# Blacks\n",
    "black_filtered_data = combined_data[combined_data[\"Officer-defined ethnicity\"].str.contains(\"Black\")]\n",
    "# Asians\n",
    "asian_filtered_data = combined_data[combined_data[\"Officer-defined ethnicity\"].str.contains(\"Asian\")]\n",
    "# Others\n",
    "other_filtered_data = combined_data[combined_data[\"Self-defined ethnicity\"].str.contains(\"Other\")]\n",
    "\n",
    "# Mixed and unknown\n",
    "mixed_asian_filtered_data = combined_data[combined_data[\"Self-defined ethnicity\"].str.contains(\"Mixed/Multiple ethnic groups - White and Asian\")]\n",
    "other_ethnic_group = combined_data[combined_data[\"Self-defined ethnicity\"].str.contains(\"Other ethnic group\")]\n",
    "\n",
    "\n",
    "# Count the number of entries\n",
    "total_white_british_entries = white_uk_filtered_data.shape[0] + white_irish_filtered_data.shape[0]\n",
    "total_white_other_entries = white_other_filtered_data.shape[0]\n",
    "total_black_entries = black_filtered_data.shape[0]\n",
    "total_south_asian_entries = indian_filtered_data.shape[0] + pakistani_filtered_data.shape[0] + bangladeshi_filtered_data.shape[0]\n",
    "total_east_asian_entries = chinese_filtered_data.shape[0] + other_asian_filtered_data.shape[0]\n",
    "total_other_entries = mixed_asian_filtered_data.shape[0]\n",
    "\n",
    "# Print the total counts\n",
    "print(f\"Total entries with 'White British' ethnicity: {total_white_british_entries}\")\n",
    "print(f\"Total entries with 'White Other' ethnicity: {total_white_other_entries}\")\n",
    "print(f\"Total entries with 'Black' ethnicity: {total_black_entries}\")\n",
    "print(f\"Total entries with 'South Asian' ethnicity: {total_south_asian_entries}\")\n",
    "print(f\"Total entries with 'East Asian' ethnicity: {total_east_asian_entries}\")\n",
    "print(f\"Total entries with 'Other' ethnicity: {total_other_entries}\")\n",
    "\n",
    "# Create a histogram\n",
    "labels = ['White British', 'White Other', 'Black', 'South Asian', 'East Asian', 'Other']\n",
    "counts = [total_white_british_entries, total_white_other_entries, total_black_entries, total_south_asian_entries, total_east_asian_entries, total_other_entries]\n",
    "\n",
    "plt.figure(figsize=(8, 6))  # Adjust figure size\n",
    "plt.bar(labels, counts)\n",
    "plt.xlabel('Ethnicity')\n",
    "plt.ylabel('Count')"
   ]
  },
  {
   "cell_type": "code",
   "execution_count": null,
   "metadata": {},
   "outputs": [],
   "source": []
  }
 ],
 "metadata": {
  "kernelspec": {
   "display_name": "Python 3",
   "language": "python",
   "name": "python3"
  },
  "language_info": {
   "codemirror_mode": {
    "name": "ipython",
    "version": 3
   },
   "file_extension": ".py",
   "mimetype": "text/x-python",
   "name": "python",
   "nbconvert_exporter": "python",
   "pygments_lexer": "ipython3",
   "version": "3.8.5"
  }
 },
 "nbformat": 4,
 "nbformat_minor": 4
}
