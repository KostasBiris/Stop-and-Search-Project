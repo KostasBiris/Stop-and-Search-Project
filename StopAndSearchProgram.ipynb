{
 "cells": [
  {
   "cell_type": "markdown",
   "metadata": {},
   "source": [
    "# *--- Data Cleaning ---*"
   ]
  },
  {
   "cell_type": "markdown",
   "metadata": {},
   "source": [
    "## Delete all the unimportant files from the directories downloaded through the Metropolitan Police Dataset"
   ]
  },
  {
   "cell_type": "code",
   "execution_count": null,
   "metadata": {},
   "outputs": [],
   "source": [
    "# Delete all the unimportant files from the directories\n",
    "# downloaded through the Metropolitan Police Dataset\n",
    "import os\n",
    "\n",
    "directory = \"D:\\Old_Courses\\Masters Modules\\Individual Project\\Program\\data\"\n",
    "\n",
    "# Traverse the main directory\n",
    "for root, dirs, files in os.walk(directory):\n",
    "    # Iterate over the files in each subdirectory\n",
    "    for file in files:\n",
    "        # Check if the file name contains the desired string\n",
    "        if \"metropolitan-stop-and-search\" not in file:\n",
    "            # Create the full path to the file\n",
    "            file_path = os.path.join(root, file)\n",
    "            # Delete the file\n",
    "            os.remove(file_path)\n",
    "            print(f\"Deleted: {file_path}\")\n"
   ]
  },
  {
   "cell_type": "markdown",
   "metadata": {},
   "source": [
    "## Combine all the data together"
   ]
  },
  {
   "cell_type": "code",
   "execution_count": 15,
   "metadata": {},
   "outputs": [
    {
     "name": "stdout",
     "output_type": "stream",
     "text": [
      "Combined data saved to: D:\\Old_Courses\\Masters Modules\\Individual Project\\Program\\combined_data.csv\n"
     ]
    }
   ],
   "source": [
    "# Combine all the data together\n",
    "\n",
    "import os\n",
    "import pandas as pd\n",
    "\n",
    "directory = \"D:\\Old_Courses\\Masters Modules\\Individual Project\\Program\\data\"\n",
    "output_file = \"D:\\Old_Courses\\Masters Modules\\Individual Project\\Program\\combined_data.csv\"\n",
    "\n",
    "# Initialize an empty DataFrame to store the combined data\n",
    "combined_data = pd.DataFrame()\n",
    "\n",
    "# Traverse the main directory\n",
    "for root, dirs, files in os.walk(directory):\n",
    "    # Iterate over the files in each subdirectory\n",
    "    for file in files:\n",
    "        # Check if the file is a CSV file\n",
    "        if file.endswith(\".csv\"):\n",
    "            # Create the full path to the file\n",
    "            file_path = os.path.join(root, file)\n",
    "            # Read the CSV file into a DataFrame\n",
    "            data = pd.read_csv(file_path)\n",
    "            # Append the data to the combined DataFrame\n",
    "            combined_data = combined_data.append(data, ignore_index=True)\n",
    "\n",
    "# Save the combined data to a new CSV file\n",
    "combined_data.to_csv(output_file, index=False)\n",
    "print(f\"Combined data saved to: {output_file}\")"
   ]
  },
  {
   "cell_type": "markdown",
   "metadata": {},
   "source": [
    "# Add Borough using Ball Tree and remove NaN entries from the combined data"
   ]
  },
  {
   "cell_type": "code",
   "execution_count": null,
   "metadata": {},
   "outputs": [],
   "source": [
    "pip install folium"
   ]
  },
  {
   "cell_type": "code",
   "execution_count": 10,
   "metadata": {
    "collapsed": true
   },
   "outputs": [
    {
     "name": "stdout",
     "output_type": "stream",
     "text": [
      "Collecting geopandas\n",
      "  Downloading geopandas-0.13.0-py3-none-any.whl (1.1 MB)\n",
      "Collecting shapely>=1.7.1\n",
      "  Downloading shapely-2.0.1-cp38-cp38-win_amd64.whl (1.4 MB)\n",
      "Requirement already satisfied: pandas>=1.1.0 in c:\\users\\konstantinos\\anaconda3\\lib\\site-packages (from geopandas) (1.1.3)\n",
      "Collecting pyproj>=3.0.1\n",
      "  Downloading pyproj-3.5.0-cp38-cp38-win_amd64.whl (5.1 MB)\n",
      "Collecting fiona>=1.8.19\n",
      "  Downloading Fiona-1.9.4.post1-cp38-cp38-win_amd64.whl (22.7 MB)\n",
      "Requirement already satisfied: packaging in c:\\users\\konstantinos\\anaconda3\\lib\\site-packages (from geopandas) (20.4)\n",
      "Requirement already satisfied: numpy>=1.14 in c:\\users\\konstantinos\\anaconda3\\lib\\site-packages (from shapely>=1.7.1->geopandas) (1.19.2)\n",
      "Requirement already satisfied: pytz>=2017.2 in c:\\users\\konstantinos\\anaconda3\\lib\\site-packages (from pandas>=1.1.0->geopandas) (2020.1)\n",
      "Requirement already satisfied: python-dateutil>=2.7.3 in c:\\users\\konstantinos\\anaconda3\\lib\\site-packages (from pandas>=1.1.0->geopandas) (2.8.1)\n",
      "Requirement already satisfied: certifi in c:\\users\\konstantinos\\anaconda3\\lib\\site-packages (from pyproj>=3.0.1->geopandas) (2020.6.20)\n",
      "Requirement already satisfied: attrs>=19.2.0 in c:\\users\\konstantinos\\anaconda3\\lib\\site-packages (from fiona>=1.8.19->geopandas) (20.3.0)\n",
      "Collecting click-plugins>=1.0\n",
      "  Downloading click_plugins-1.1.1-py2.py3-none-any.whl (7.5 kB)\n",
      "Requirement already satisfied: importlib-metadata; python_version < \"3.10\" in c:\\users\\konstantinos\\anaconda3\\lib\\site-packages (from fiona>=1.8.19->geopandas) (2.0.0)\n",
      "Collecting cligj>=0.5\n",
      "  Downloading cligj-0.7.2-py3-none-any.whl (7.1 kB)\n",
      "Requirement already satisfied: six in c:\\users\\konstantinos\\anaconda3\\lib\\site-packages (from fiona>=1.8.19->geopandas) (1.15.0)\n",
      "Collecting click~=8.0\n",
      "  Downloading click-8.1.3-py3-none-any.whl (96 kB)\n",
      "Requirement already satisfied: pyparsing>=2.0.2 in c:\\users\\konstantinos\\anaconda3\\lib\\site-packages (from packaging->geopandas) (2.4.7)\n",
      "Requirement already satisfied: zipp>=0.5 in c:\\users\\konstantinos\\anaconda3\\lib\\site-packages (from importlib-metadata; python_version < \"3.10\"->fiona>=1.8.19->geopandas) (3.4.0)\n",
      "Requirement already satisfied: colorama; platform_system == \"Windows\" in c:\\users\\konstantinos\\anaconda3\\lib\\site-packages (from click~=8.0->fiona>=1.8.19->geopandas) (0.4.4)\n",
      "Installing collected packages: shapely, pyproj, click, click-plugins, cligj, fiona, geopandas\n",
      "  Attempting uninstall: click\n",
      "    Found existing installation: click 7.1.2\n",
      "    Uninstalling click-7.1.2:\n",
      "      Successfully uninstalled click-7.1.2\n",
      "Successfully installed click-8.1.3 click-plugins-1.1.1 cligj-0.7.2 fiona-1.9.4.post1 geopandas-0.13.0 pyproj-3.5.0 shapely-2.0.1\n",
      "Note: you may need to restart the kernel to use updated packages.\n"
     ]
    }
   ],
   "source": [
    "pip install geopandas"
   ]
  },
  {
   "cell_type": "code",
   "execution_count": 12,
   "metadata": {
    "collapsed": true
   },
   "outputs": [
    {
     "name": "stderr",
     "output_type": "stream",
     "text": [
      "C:\\Users\\Konstantinos\\anaconda3\\lib\\site-packages\\IPython\\core\\interactiveshell.py:3146: DtypeWarning: Columns (47) have mixed types.Specify dtype option on import or set low_memory=False.\n",
      "  has_raised = await self.run_ast_nodes(code_ast.body, cell_name,\n"
     ]
    },
    {
     "name": "stdout",
     "output_type": "stream",
     "text": [
      "                        Type                       Date  \\\n",
      "0              Person search  2018-01-01T00:05:00+00:00   \n",
      "1              Person search  2018-01-01T00:15:00+00:00   \n",
      "2  Person and Vehicle search  2018-01-01T00:16:00+00:00   \n",
      "3  Person and Vehicle search  2018-01-01T00:17:00+00:00   \n",
      "4              Person search  2018-01-01T00:20:00+00:00   \n",
      "\n",
      "   Part of a policing operation  Policing operation   Latitude  Longitude  \\\n",
      "0                         False                 NaN  51.425491  -0.220473   \n",
      "1                         False                 NaN  51.459996  -0.116896   \n",
      "2                         False                 NaN  51.542049  -0.380529   \n",
      "3                         False                 NaN  51.613286  -0.065711   \n",
      "4                         False                 NaN  51.461004  -0.115876   \n",
      "\n",
      "  Gender Age range                             Self-defined ethnicity  \\\n",
      "0   Male     18-24                 White - Any other White background   \n",
      "1   Male   over 34                 White - Any other White background   \n",
      "2   Male     25-34  Black/African/Caribbean/Black British - Caribbean   \n",
      "3   Male     25-34    Black/African/Caribbean/Black British - African   \n",
      "4   Male   over 34  Black/African/Caribbean/Black British - Any ot...   \n",
      "\n",
      "  Officer-defined ethnicity                            Legislation  \\\n",
      "0                     White  Misuse of Drugs Act 1971 (section 23)   \n",
      "1                     White  Misuse of Drugs Act 1971 (section 23)   \n",
      "2                     Black  Misuse of Drugs Act 1971 (section 23)   \n",
      "3                     Black  Misuse of Drugs Act 1971 (section 23)   \n",
      "4                     Black  Misuse of Drugs Act 1971 (section 23)   \n",
      "\n",
      "   Object of search                       Outcome  \\\n",
      "0  Controlled drugs      Khat or Cannabis warning   \n",
      "1  Controlled drugs                        Arrest   \n",
      "2  Controlled drugs  A no further action disposal   \n",
      "3  Controlled drugs                        Arrest   \n",
      "4  Controlled drugs  A no further action disposal   \n",
      "\n",
      "   Outcome linked to object of search  \\\n",
      "0                                 NaN   \n",
      "1                                 NaN   \n",
      "2                                 NaN   \n",
      "3                                 NaN   \n",
      "4                                 NaN   \n",
      "\n",
      "   Removal of more than just outer clothing  Borough  \n",
      "0                                       NaN   Merton  \n",
      "1                                       NaN  Lambeth  \n",
      "2                                       NaN   Ealing  \n",
      "3                                       NaN  Enfield  \n",
      "4                                       NaN  Lambeth  \n"
     ]
    }
   ],
   "source": [
    "import pandas as pd\n",
    "import numpy as np\n",
    "from sklearn.neighbors import BallTree\n",
    "\n",
    "# Load the combined_data.csv file\n",
    "combined_data = pd.read_csv(\"D:\\Old_Courses\\Masters Modules\\Individual Project\\Program\\combined_data.csv\")\n",
    "\n",
    "# Load the London_postcodes.csv file\n",
    "london_postcodes = pd.read_csv(\"D:\\Old_Courses\\Masters Modules\\Individual Project\\Program\\London_postcodes.csv\")\n",
    "\n",
    "# Drop rows with missing values from both DataFrames\n",
    "combined_data = combined_data.dropna(subset=[\"Longitude\", \"Latitude\"])\n",
    "london_postcodes = london_postcodes.dropna(subset=[\"Longitude\", \"Latitude\", \"District\"])\n",
    "\n",
    "# Select the relevant columns for nearest neighbor search\n",
    "combined_coords = combined_data[[\"Longitude\", \"Latitude\"]].values\n",
    "london_coords = london_postcodes[[\"Longitude\", \"Latitude\"]].values\n",
    "london_districts = london_postcodes[\"District\"].values\n",
    "\n",
    "# Perform nearest neighbor search using BallTree\n",
    "tree = BallTree(london_coords, leaf_size=2)\n",
    "distances, indices = tree.query(combined_coords, k=1)\n",
    "\n",
    "# Retrieve the corresponding districts (boroughs) for each nearest neighbor\n",
    "nearest_districts = london_districts[indices.ravel()]\n",
    "\n",
    "# Assign the borough information to the combined_data DataFrame\n",
    "combined_data[\"Borough\"] = nearest_districts\n",
    "\n",
    "# Save the updated DataFrame to a new CSV file\n",
    "combined_data.to_csv(\"D:\\Old_Courses\\Masters Modules\\Individual Project\\Program\\combined_data_with_borough.csv\", index=False)\n",
    "\n",
    "print(combined_data.head())"
   ]
  },
  {
   "cell_type": "markdown",
   "metadata": {},
   "source": [
    "## Combine only the data from 2018-2019 (Before the Covide-19 Pandemic)"
   ]
  },
  {
   "cell_type": "code",
   "execution_count": 13,
   "metadata": {
    "collapsed": true
   },
   "outputs": [
    {
     "name": "stdout",
     "output_type": "stream",
     "text": [
      "                        Type                       Date  \\\n",
      "0              Person search  2018-01-01T00:05:00+00:00   \n",
      "1              Person search  2018-01-01T00:15:00+00:00   \n",
      "2  Person and Vehicle search  2018-01-01T00:16:00+00:00   \n",
      "3  Person and Vehicle search  2018-01-01T00:17:00+00:00   \n",
      "4              Person search  2018-01-01T00:20:00+00:00   \n",
      "\n",
      "   Part of a policing operation  Policing operation   Latitude  Longitude  \\\n",
      "0                         False                 NaN  51.425491  -0.220473   \n",
      "1                         False                 NaN  51.459996  -0.116896   \n",
      "2                         False                 NaN  51.542049  -0.380529   \n",
      "3                         False                 NaN  51.613286  -0.065711   \n",
      "4                         False                 NaN  51.461004  -0.115876   \n",
      "\n",
      "  Gender Age range                             Self-defined ethnicity  \\\n",
      "0   Male     18-24                 White - Any other White background   \n",
      "1   Male   over 34                 White - Any other White background   \n",
      "2   Male     25-34  Black/African/Caribbean/Black British - Caribbean   \n",
      "3   Male     25-34    Black/African/Caribbean/Black British - African   \n",
      "4   Male   over 34  Black/African/Caribbean/Black British - Any ot...   \n",
      "\n",
      "  Officer-defined ethnicity                            Legislation  \\\n",
      "0                     White  Misuse of Drugs Act 1971 (section 23)   \n",
      "1                     White  Misuse of Drugs Act 1971 (section 23)   \n",
      "2                     Black  Misuse of Drugs Act 1971 (section 23)   \n",
      "3                     Black  Misuse of Drugs Act 1971 (section 23)   \n",
      "4                     Black  Misuse of Drugs Act 1971 (section 23)   \n",
      "\n",
      "   Object of search                       Outcome  \\\n",
      "0  Controlled drugs      Khat or Cannabis warning   \n",
      "1  Controlled drugs                        Arrest   \n",
      "2  Controlled drugs  A no further action disposal   \n",
      "3  Controlled drugs                        Arrest   \n",
      "4  Controlled drugs  A no further action disposal   \n",
      "\n",
      "   Outcome linked to object of search  \\\n",
      "0                                 NaN   \n",
      "1                                 NaN   \n",
      "2                                 NaN   \n",
      "3                                 NaN   \n",
      "4                                 NaN   \n",
      "\n",
      "   Removal of more than just outer clothing  Borough  \n",
      "0                                       NaN   Merton  \n",
      "1                                       NaN  Lambeth  \n",
      "2                                       NaN   Ealing  \n",
      "3                                       NaN  Enfield  \n",
      "4                                       NaN  Lambeth  \n"
     ]
    }
   ],
   "source": [
    "import pandas as pd\n",
    "\n",
    "# Read the \"combined_data.csv\" file\n",
    "combined_data = pd.read_csv(\"D:\\Old_Courses\\Masters Modules\\Individual Project\\Program\\combined_data_with_borough.csv\")\n",
    "\n",
    "# Filter the data based on the \"Date\" column\n",
    "prepandemic_data = combined_data[combined_data[\"Date\"].str.contains(\"2018|2019\")]\n",
    "\n",
    "# Save the filtered data to \"prepandemic_data.csv\"\n",
    "prepandemic_data.to_csv(\"D:\\Old_Courses\\Masters Modules\\Individual Project\\Program\\prepandemic_combined_data.csv\", index=False)\n",
    "\n",
    "print(prepandemic_data.head())"
   ]
  },
  {
   "cell_type": "markdown",
   "metadata": {},
   "source": [
    "## Combine only the data  2020-2021 (During the Covid-19 Pandemic)"
   ]
  },
  {
   "cell_type": "code",
   "execution_count": 14,
   "metadata": {
    "collapsed": true
   },
   "outputs": [
    {
     "name": "stdout",
     "output_type": "stream",
     "text": [
      "                             Type                       Date  \\\n",
      "356983              Person search  2020-01-01T00:00:00+00:00   \n",
      "356984              Person search  2020-01-01T00:01:00+00:00   \n",
      "356985              Person search  2020-01-01T00:07:00+00:00   \n",
      "356986  Person and Vehicle search  2020-01-01T00:10:00+00:00   \n",
      "356987              Person search  2020-01-01T00:10:00+00:00   \n",
      "\n",
      "        Part of a policing operation  Policing operation   Latitude  \\\n",
      "356983                         False                 NaN  51.546371   \n",
      "356984                         False                 NaN  51.509232   \n",
      "356985                         False                 NaN  51.588914   \n",
      "356986                         False                 NaN  51.544707   \n",
      "356987                         False                 NaN  51.544707   \n",
      "\n",
      "        Longitude Gender Age range  \\\n",
      "356983  -0.076007   Male     25-34   \n",
      "356984  -0.117576   Male     18-24   \n",
      "356985  -0.027220   Male       NaN   \n",
      "356986  -0.144062   Male     25-34   \n",
      "356987  -0.144062   Male     25-34   \n",
      "\n",
      "                                   Self-defined ethnicity  \\\n",
      "356983  Mixed/Multiple ethnic groups - Any other Mixed...   \n",
      "356984  Black/African/Caribbean/Black British - Any ot...   \n",
      "356985                    Other ethnic group - Not stated   \n",
      "356986                    Other ethnic group - Not stated   \n",
      "356987    Black/African/Caribbean/Black British - African   \n",
      "\n",
      "       Officer-defined ethnicity  \\\n",
      "356983                     Black   \n",
      "356984                     Black   \n",
      "356985                     Asian   \n",
      "356986                     Black   \n",
      "356987                     Black   \n",
      "\n",
      "                                              Legislation  Object of search  \\\n",
      "356983              Misuse of Drugs Act 1971 (section 23)  Controlled drugs   \n",
      "356984  Police and Criminal Evidence Act 1984 (section 1)         Fireworks   \n",
      "356985  Police and Criminal Evidence Act 1984 (section 1)         Fireworks   \n",
      "356986              Misuse of Drugs Act 1971 (section 23)  Controlled drugs   \n",
      "356987              Misuse of Drugs Act 1971 (section 23)  Controlled drugs   \n",
      "\n",
      "                             Outcome  Outcome linked to object of search  \\\n",
      "356983  A no further action disposal                                 NaN   \n",
      "356984                        Arrest                                 NaN   \n",
      "356985  A no further action disposal                                 NaN   \n",
      "356986   Penalty Notice for Disorder                                 NaN   \n",
      "356987          Community resolution                                 NaN   \n",
      "\n",
      "        Removal of more than just outer clothing         Borough  \n",
      "356983                                       NaN         Hackney  \n",
      "356984                                       NaN     Westminster  \n",
      "356985                                       NaN  Waltham Forest  \n",
      "356986                                       NaN          Camden  \n",
      "356987                                       NaN          Camden  \n"
     ]
    }
   ],
   "source": [
    "import pandas as pd\n",
    "\n",
    "# Read the \"combined_data.csv\" file\n",
    "combined_data = pd.read_csv(\"D:\\Old_Courses\\Masters Modules\\Individual Project\\Program\\combined_data_with_borough.csv\")\n",
    "\n",
    "# Filter the data based on the \"Date\" column\n",
    "pandemic_data = combined_data[combined_data[\"Date\"].str.contains(\"2020|2021\")]\n",
    "\n",
    "# Save the filtered data to \"prepandemic_data.csv\"\n",
    "pandemic_data.to_csv(\"D:\\Old_Courses\\Masters Modules\\Individual Project\\Program\\pandemic_combined_data.csv\", index=False)\n",
    "\n",
    "print(pandemic_data.head())"
   ]
  },
  {
   "cell_type": "markdown",
   "metadata": {},
   "source": [
    "## Combine only the data from 2022-2023 (During the Covid-19 Pandemic)"
   ]
  },
  {
   "cell_type": "code",
   "execution_count": 15,
   "metadata": {
    "collapsed": true
   },
   "outputs": [
    {
     "name": "stdout",
     "output_type": "stream",
     "text": [
      "                             Type                       Date  \\\n",
      "841133  Person and Vehicle search  2022-01-01T00:00:00+00:00   \n",
      "841134              Person search  2022-01-01T00:00:00+00:00   \n",
      "841135  Person and Vehicle search  2022-01-01T00:00:00+00:00   \n",
      "841136              Person search  2022-01-01T00:00:00+00:00   \n",
      "841137              Person search  2022-01-01T00:00:00+00:00   \n",
      "\n",
      "        Part of a policing operation  Policing operation   Latitude  \\\n",
      "841133                         False                 NaN  51.521306   \n",
      "841134                         False                 NaN  51.374152   \n",
      "841135                         False                 NaN  51.521306   \n",
      "841136                         False                 NaN  51.471001   \n",
      "841137                         False                 NaN  51.473023   \n",
      "\n",
      "        Longitude  Gender Age range  \\\n",
      "841133  -0.153057    Male     18-24   \n",
      "841134  -0.105219  Female   over 34   \n",
      "841135  -0.153057    Male     18-24   \n",
      "841136   0.055595    Male     25-34   \n",
      "841137  -0.209120    Male   over 34   \n",
      "\n",
      "                                   Self-defined ethnicity  \\\n",
      "841133   Asian/Asian British - Any other Asian background   \n",
      "841134                    Other ethnic group - Not stated   \n",
      "841135   Asian/Asian British - Any other Asian background   \n",
      "841136  Black/African/Caribbean/Black British - Any ot...   \n",
      "841137                    Other ethnic group - Not stated   \n",
      "\n",
      "       Officer-defined ethnicity                            Legislation  \\\n",
      "841133                     Asian  Misuse of Drugs Act 1971 (section 23)   \n",
      "841134                     White  Misuse of Drugs Act 1971 (section 23)   \n",
      "841135                     Asian  Misuse of Drugs Act 1971 (section 23)   \n",
      "841136                     Black  Misuse of Drugs Act 1971 (section 23)   \n",
      "841137                     Black  Misuse of Drugs Act 1971 (section 23)   \n",
      "\n",
      "        Object of search                       Outcome  \\\n",
      "841133  Controlled drugs  A no further action disposal   \n",
      "841134  Controlled drugs  A no further action disposal   \n",
      "841135  Controlled drugs  A no further action disposal   \n",
      "841136  Controlled drugs  A no further action disposal   \n",
      "841137  Controlled drugs                        Arrest   \n",
      "\n",
      "        Outcome linked to object of search  \\\n",
      "841133                                 NaN   \n",
      "841134                                 NaN   \n",
      "841135                                 NaN   \n",
      "841136                                 NaN   \n",
      "841137                                 NaN   \n",
      "\n",
      "        Removal of more than just outer clothing                 Borough  \n",
      "841133                                       NaN             Westminster  \n",
      "841134                                       NaN                 Croydon  \n",
      "841135                                       NaN             Westminster  \n",
      "841136                                       NaN               Greenwich  \n",
      "841137                                       NaN  Hammersmith and Fulham  \n"
     ]
    }
   ],
   "source": [
    "import pandas as pd\n",
    "\n",
    "# Read the \"combined_data.csv\" file\n",
    "combined_data = pd.read_csv(\"D:\\Old_Courses\\Masters Modules\\Individual Project\\Program\\combined_data_with_borough.csv\")\n",
    "\n",
    "# Filter the data based on the \"Date\" column\n",
    "pandemic_data = combined_data[combined_data[\"Date\"].str.contains(\"2022|2023\")]\n",
    "\n",
    "# Save the filtered data to \"prepandemic_data.csv\"\n",
    "pandemic_data.to_csv(\"D:\\Old_Courses\\Masters Modules\\Individual Project\\Program\\postpandemic_combined_data.csv\", index=False)\n",
    "\n",
    "print(pandemic_data.head())"
   ]
  },
  {
   "cell_type": "markdown",
   "metadata": {},
   "source": [
    "## Print the Different \"Self-defined\" Ethnic Categories found in the Police dataset"
   ]
  },
  {
   "cell_type": "code",
   "execution_count": 43,
   "metadata": {},
   "outputs": [
    {
     "name": "stdout",
     "output_type": "stream",
     "text": [
      "Different values in the 'Self-defined ethnicity' column:\n",
      "White - Any other White background\n",
      "Black/African/Caribbean/Black British - Caribbean\n",
      "Black/African/Caribbean/Black British - African\n",
      "Black/African/Caribbean/Black British - Any other Black/African/Caribbean background\n",
      "Asian/Asian British - Any other Asian background\n",
      "Mixed/Multiple ethnic groups - Any other Mixed/Multiple ethnic background\n",
      "Other ethnic group - Not stated\n",
      "Other ethnic group - Any other ethnic group\n",
      "White - English/Welsh/Scottish/Northern Irish/British\n",
      "Mixed/Multiple ethnic groups - White and Black Caribbean\n",
      "Asian/Asian British - Bangladeshi\n",
      "Asian/Asian British - Pakistani\n",
      "nan\n",
      "Asian/Asian British - Indian\n",
      "Mixed/Multiple ethnic groups - White and Black African\n",
      "White - Irish\n",
      "Asian/Asian British - Chinese\n",
      "Mixed/Multiple ethnic groups - White and Asian\n"
     ]
    }
   ],
   "source": [
    "import pandas as pd\n",
    "\n",
    "file_path = \"D:\\Old_Courses\\Masters Modules\\Individual Project\\Program\\combined_data.csv\"\n",
    "\n",
    "# Read the CSV file into a DataFrame\n",
    "combined_data = pd.read_csv(file_path)\n",
    "\n",
    "# Retrieve the unique values in the \"Self-defined ethnicity\" column\n",
    "ethnicity_values = combined_data[\"Self-defined ethnicity\"].unique()\n",
    "\n",
    "# Print the different values\n",
    "print(\"Different values in the 'Self-defined ethnicity' column:\")\n",
    "for value in ethnicity_values:\n",
    "    print(value)\n"
   ]
  },
  {
   "cell_type": "markdown",
   "metadata": {},
   "source": [
    "## Change Self-Defined Ethnicity labels for clarity"
   ]
  },
  {
   "cell_type": "code",
   "execution_count": 38,
   "metadata": {},
   "outputs": [
    {
     "name": "stdout",
     "output_type": "stream",
     "text": [
      "Black            293793\n",
      "Other            284455\n",
      "White British    225822\n",
      "White Other      129083\n",
      "East Asian        77522\n",
      "South Asian       75389\n",
      "Mixed             21596\n",
      "Mixed Black       15678\n",
      "Mixed Asian        2826\n",
      "Name: Self-defined ethnicity, dtype: int64\n"
     ]
    }
   ],
   "source": [
    "import pandas as pd\n",
    "\n",
    "file_path = \"D:\\Old_Courses\\Masters Modules\\Individual Project\\Program\\combined_data.csv\"\n",
    "\n",
    "# Read the CSV file into a DataFrame\n",
    "combined_data = pd.read_csv(file_path)\n",
    "\n",
    "# Define the mappings for the values in the \"Self-defined ethnicity\" column\n",
    "mappings = {\n",
    "    \"White - Any other White background\": \"White Other\",\n",
    "    \"Black/African/Caribbean/Black British - Caribbean\": \"Black\",\n",
    "    \"Black/African/Caribbean/Black British - African\": \"Black\",\n",
    "    \"Black/African/Caribbean/Black British - Any other Black/African/Caribbean background\": \"Black\",\n",
    "    \"Asian/Asian British - Any other Asian background\": \"East Asian\",\n",
    "    \"Mixed/Multiple ethnic groups - Any other Mixed/Multiple ethnic background\": \"Mixed\",\n",
    "    \"Other ethnic group - Not stated\": \"Other\",\n",
    "    \"Other ethnic group - Any other ethnic group\": \"Other\",\n",
    "    \"White - English/Welsh/Scottish/Northern Irish/British\": \"White British\",\n",
    "    \"Mixed/Multiple ethnic groups - White and Black Caribbean\": \"Mixed Black\",\n",
    "    \"Asian/Asian British - Bangladeshi\": \"South Asian\",\n",
    "    \"Asian/Asian British - Pakistani\": \"South Asian\",\n",
    "    \"Asian/Asian British - Indian\": \"South Asian\",\n",
    "    \"Mixed/Multiple ethnic groups - White and Black African\": \"Mixed Black\",\n",
    "    \"White - Irish\": \"White British\",\n",
    "    \"Asian/Asian British - Chinese\": \"East Asian\",\n",
    "    \"Mixed/Multiple ethnic groups - White and Asian\": \"Mixed Asian\"\n",
    "}\n",
    "\n",
    "# Map the values in the \"Self-defined ethnicity\" column using the defined mappings\n",
    "combined_data[\"Self-defined ethnicity\"] = combined_data[\"Self-defined ethnicity\"].map(mappings)\n",
    "\n",
    "# Save the updated DataFrame to a new CSV file\n",
    "combined_data.to_csv(\"D:\\Old_Courses\\Masters Modules\\Individual Project\\Program\\combined_data_clean.csv\", index=False)\n",
    "\n",
    "print(combined_data[\"Self-defined ethnicity\"].value_counts())\n"
   ]
  },
  {
   "cell_type": "markdown",
   "metadata": {},
   "source": [
    "# *--- Data Analysis ---*"
   ]
  },
  {
   "cell_type": "markdown",
   "metadata": {},
   "source": [
    "## Count the overall sample throughout all the years"
   ]
  },
  {
   "cell_type": "code",
   "execution_count": 16,
   "metadata": {},
   "outputs": [
    {
     "name": "stdout",
     "output_type": "stream",
     "text": [
      "Total entries: 1140779\n"
     ]
    }
   ],
   "source": [
    "# Count the overall sample throughout all the years\n",
    "\n",
    "import pandas as pd\n",
    "\n",
    "file_path = \"D:\\Old_Courses\\Masters Modules\\Individual Project\\Program\\combined_data.csv\"\n",
    "\n",
    "# Read the CSV file into a DataFrame\n",
    "combined_data = pd.read_csv(file_path)\n",
    "\n",
    "# Count the total number of entries\n",
    "total_entries = combined_data.shape[0]\n",
    "\n",
    "print(f\"Total entries: {total_entries}\")"
   ]
  },
  {
   "cell_type": "markdown",
   "metadata": {},
   "source": [
    "## Count only the pre-pandemic sample throughout 2018-2019"
   ]
  },
  {
   "cell_type": "code",
   "execution_count": 17,
   "metadata": {},
   "outputs": [
    {
     "name": "stdout",
     "output_type": "stream",
     "text": [
      "Pre-pandemic entries: 356983\n"
     ]
    }
   ],
   "source": [
    "# Count the pre-pandemimc sample throughout 2018-2019\n",
    "\n",
    "import pandas as pd\n",
    "\n",
    "file_path = \"D:\\Old_Courses\\Masters Modules\\Individual Project\\Program\\prepandemic_combined_data.csv\"\n",
    "\n",
    "# Read the CSV file into a DataFrame\n",
    "combined_data = pd.read_csv(file_path)\n",
    "\n",
    "# Count the total number of entries\n",
    "total_entries = combined_data.shape[0]\n",
    "\n",
    "print(f\"Pre-pandemic entries: {total_entries}\")"
   ]
  },
  {
   "cell_type": "markdown",
   "metadata": {},
   "source": [
    "## Count the pandemic sample throughout 2020-2021"
   ]
  },
  {
   "cell_type": "code",
   "execution_count": 18,
   "metadata": {},
   "outputs": [
    {
     "name": "stdout",
     "output_type": "stream",
     "text": [
      "Pandemic entries: 484150\n"
     ]
    }
   ],
   "source": [
    "# Count the pandemimc sample throughout 2020-2021 \n",
    "\n",
    "import pandas as pd\n",
    "\n",
    "file_path = \"D:\\Old_Courses\\Masters Modules\\Individual Project\\Program\\pandemic_combined_data.csv\"\n",
    "\n",
    "# Read the CSV file into a DataFrame\n",
    "combined_data = pd.read_csv(file_path)\n",
    "\n",
    "# Count the total number of entries\n",
    "total_entries = combined_data.shape[0]\n",
    "\n",
    "print(f\"Pandemic entries: {total_entries}\")"
   ]
  },
  {
   "cell_type": "markdown",
   "metadata": {},
   "source": [
    "## Count the post-pandemic sample throughout 2022-2023"
   ]
  },
  {
   "cell_type": "code",
   "execution_count": 19,
   "metadata": {},
   "outputs": [
    {
     "name": "stdout",
     "output_type": "stream",
     "text": [
      "Post-pandemic entries: 164480\n"
     ]
    }
   ],
   "source": [
    "# Count the post-pandemimc sample throughout 2022-2023\n",
    "\n",
    "import pandas as pd\n",
    "\n",
    "file_path = \"D:\\Old_Courses\\Masters Modules\\Individual Project\\Program\\postpandemic_combined_data.csv\"\n",
    "\n",
    "# Read the CSV file into a DataFrame\n",
    "combined_data = pd.read_csv(file_path)\n",
    "\n",
    "# Count the total number of entries\n",
    "total_entries = combined_data.shape[0]\n",
    "\n",
    "print(f\"Post-pandemic entries: {total_entries}\")"
   ]
  },
  {
   "cell_type": "markdown",
   "metadata": {},
   "source": [
    "## Count the overall number of each ethnicity in the whole sample"
   ]
  },
  {
   "cell_type": "code",
   "execution_count": 45,
   "metadata": {},
   "outputs": [
    {
     "name": "stdout",
     "output_type": "stream",
     "text": [
      "Total entries with 'White British' ethnicity: 225822\n",
      "Total entries with 'White Other' ethnicity: 129083\n",
      "Total entries with 'White (total)' ethnicity: 354905\n",
      "Total entries with 'Black' ethnicity: 309471\n",
      "Total entries with 'South Asian' ethnicity: 226167\n",
      "Total entries with 'East Asian' ethnicity: 155044\n",
      "Total entries with 'Other' ethnicity: 416364\n"
     ]
    },
    {
     "data": {
      "image/png": "[encoded data removed]",
      "text/plain": [
       "<Figure size 576x432 with 1 Axes>"
      ]
     },
     "metadata": {
      "needs_background": "light"
     },
     "output_type": "display_data"
    },
    {
     "data": {
      "image/png": "[encoded data removed]",
      "text/plain": [
       "<Figure size 576x432 with 1 Axes>"
      ]
     },
     "metadata": {
      "needs_background": "light"
     },
     "output_type": "display_data"
    }
   ],
   "source": [
    "import pandas as pd\n",
    "import matplotlib.pyplot as plt\n",
    "\n",
    "file_path = \"D:\\Old_Courses\\Masters Modules\\Individual Project\\Program\\combined_data_clean.csv\"\n",
    "\n",
    "# Read the CSV file into a DataFrame\n",
    "combined_data = pd.read_csv(file_path)\n",
    "\n",
    "# Fill missing values in the \"Self-defined ethnicity\" column with a default value\n",
    "combined_data[\"Self-defined ethnicity\"].fillna(\"\", inplace=True)\n",
    "\n",
    "# Filter the DataFrame based on the \"Self-defined ethnicity\" column\n",
    "\n",
    "# Europeans\n",
    "white_uk_filtered_data = combined_data[combined_data[\"Self-defined ethnicity\"].str.contains(\"White British\")]\n",
    "white_other_filtered_data = combined_data[combined_data[\"Self-defined ethnicity\"].str.contains(\"White Other\")]\n",
    "\n",
    "# Blacks\n",
    "black_filtered_data = combined_data[combined_data[\"Self-defined ethnicity\"].str.contains(\"Black\")]\n",
    "\n",
    "# South-Asians\n",
    "indian_filtered_data = combined_data[combined_data[\"Self-defined ethnicity\"].str.contains(\"South Asian\")]\n",
    "pakistani_filtered_data = combined_data[combined_data[\"Self-defined ethnicity\"].str.contains(\"South Asian\")]\n",
    "bangladeshi_filtered_data = combined_data[combined_data[\"Self-defined ethnicity\"].str.contains(\"South Asian\")]\n",
    "\n",
    "# East-Asians\n",
    "chinese_filtered_data = combined_data[combined_data[\"Self-defined ethnicity\"].str.contains(\"East Asian\")]\n",
    "other_asian_filtered_data = combined_data[combined_data[\"Self-defined ethnicity\"].str.contains(\"East Asian\")]\n",
    "\n",
    "# Mixed and unknown\n",
    "mixed_asian_filtered_data = combined_data[combined_data[\"Self-defined ethnicity\"].str.contains(\"Mixed Asian\")]\n",
    "other_ethnic_group = combined_data[combined_data[\"Self-defined ethnicity\"].str.contains(\"Other\")]\n",
    "\n",
    "# Count the number of entries\n",
    "total_white_british_entries = white_uk_filtered_data.shape[0]\n",
    "total_white_other_entries = white_other_filtered_data.shape[0]\n",
    "total_black_entries = black_filtered_data.shape[0]\n",
    "total_south_asian_entries = indian_filtered_data.shape[0] + pakistani_filtered_data.shape[0] + bangladeshi_filtered_data.shape[0]\n",
    "total_east_asian_entries = chinese_filtered_data.shape[0] + other_asian_filtered_data.shape[0]\n",
    "total_other_entries = mixed_asian_filtered_data.shape[0] + other_ethnic_group.shape[0]\n",
    "\n",
    "# Print the total counts\n",
    "print(f\"Total entries with 'White British' ethnicity: {total_white_british_entries}\")\n",
    "print(f\"Total entries with 'White Other' ethnicity: {total_white_other_entries}\")\n",
    "print(f\"Total entries with 'White (total)' ethnicity: {total_white_british_entries + total_white_other_entries}\")\n",
    "print(f\"Total entries with 'Black' ethnicity: {total_black_entries}\")\n",
    "print(f\"Total entries with 'South Asian' ethnicity: {total_south_asian_entries}\")\n",
    "print(f\"Total entries with 'East Asian' ethnicity: {total_east_asian_entries}\")\n",
    "print(f\"Total entries with 'Other' ethnicity: {total_other_entries}\")\n",
    "\n",
    "# Create a histogram\n",
    "labels = ['White British', 'White Other', 'Black', 'South Asian', 'East Asian', 'Other']\n",
    "counts = [total_white_british_entries, total_white_other_entries, total_black_entries, total_south_asian_entries, total_east_asian_entries, total_other_entries]\n",
    "\n",
    "plt.figure(figsize=(8, 6))  # Adjust figure size\n",
    "plt.bar(labels, counts)\n",
    "plt.xlabel('Ethnicity')\n",
    "plt.ylabel('Count')\n",
    "\n",
    "# Create a histogram with white combined\n",
    "labels = ['White total', 'Black', 'South Asian', 'East Asian', 'Other']\n",
    "counts = [total_white_british_entries + total_white_other_entries, total_black_entries, total_south_asian_entries, total_east_asian_entries, total_other_entries]\n",
    "\n",
    "plt.figure(figsize=(8, 6))  # Adjust figure size\n",
    "plt.bar(labels, counts)\n",
    "plt.xlabel('Ethnicity')\n",
    "plt.ylabel('Count')\n",
    "\n",
    "plt.show()\n"
   ]
  },
  {
   "cell_type": "markdown",
   "metadata": {},
   "source": [
    "## Officer-defined ethnicities"
   ]
  },
  {
   "cell_type": "code",
   "execution_count": 22,
   "metadata": {
    "scrolled": false
   },
   "outputs": [
    {
     "name": "stdout",
     "output_type": "stream",
     "text": [
      "Different values in the 'Officer-defined ethnicity' column:\n",
      "White\n",
      "Black\n",
      "Other\n",
      "Asian\n",
      "nan\n",
      "\n",
      "\n",
      "Total entries with 'White' ethnicity: 437550\n",
      "Total entries with 'Black' ethnicity: 434535\n",
      "Total entries with 'Asian' ethnicity: 193434\n",
      "Total entries with 'Other' ethnicity: 51204\n"
     ]
    },
    {
     "data": {
      "text/plain": [
       "Text(0, 0.5, 'Count')"
      ]
     },
     "execution_count": 22,
     "metadata": {},
     "output_type": "execute_result"
    },
    {
     "data": {
      "image/png": "[encoded data removed]",
      "text/plain": [
       "<Figure size 576x432 with 1 Axes>"
      ]
     },
     "metadata": {
      "needs_background": "light"
     },
     "output_type": "display_data"
    }
   ],
   "source": [
    "import pandas as pd\n",
    "\n",
    "file_path = \"D:\\Old_Courses\\Masters Modules\\Individual Project\\Program\\combined_data.csv\"\n",
    "\n",
    "# Read the CSV file into a DataFrame\n",
    "combined_data = pd.read_csv(file_path)\n",
    "\n",
    "# Retrieve the unique values in the \"Self-defined ethnicity\" column\n",
    "ethnicity_values = combined_data[\"Officer-defined ethnicity\"].unique()\n",
    "\n",
    "# Print the different values\n",
    "print(\"Different values in the 'Officer-defined ethnicity' column:\")\n",
    "for value in ethnicity_values:\n",
    "    print(value)\n",
    "    \n",
    "import pandas as pd\n",
    "import matplotlib.pyplot as plt\n",
    "\n",
    "file_path = \"D:\\Old_Courses\\Masters Modules\\Individual Project\\Program\\combined_data.csv\"\n",
    "\n",
    "# Read the CSV file into a DataFrame\n",
    "combined_data = pd.read_csv(file_path)\n",
    "\n",
    "# Fill missing values in the \"Self-defined ethnicity\" column with a default value\n",
    "combined_data[\"Officer-defined ethnicity\"].fillna(\"\", inplace=True)\n",
    "\n",
    "# Filter the DataFrame based on the \"Self-defined ethnicity\" column\n",
    "\n",
    "# Whites\n",
    "white_filtered_data = combined_data[combined_data[\"Officer-defined ethnicity\"].str.contains(\"White\")]\n",
    "# Blacks\n",
    "black_filtered_data = combined_data[combined_data[\"Officer-defined ethnicity\"].str.contains(\"Black\")]\n",
    "# Asians\n",
    "asian_filtered_data = combined_data[combined_data[\"Officer-defined ethnicity\"].str.contains(\"Asian\")]\n",
    "# Others\n",
    "other_filtered_data = combined_data[combined_data[\"Officer-defined ethnicity\"].str.contains(\"Other\")]\n",
    "\n",
    "# Count the number of entries\n",
    "total_white_entries = white_filtered_data.shape[0]\n",
    "total_black_entries = black_filtered_data.shape[0]\n",
    "total_asian_entries = asian_filtered_data.shape[0]\n",
    "total_other_entries = other_filtered_data.shape[0]\n",
    "\n",
    "# Print the total counts\n",
    "print(\"\\n\")\n",
    "print(f\"Total entries with 'White' ethnicity: {total_white_entries}\")\n",
    "print(f\"Total entries with 'Black' ethnicity: {total_black_entries}\")\n",
    "print(f\"Total entries with 'Asian' ethnicity: {total_asian_entries}\")\n",
    "print(f\"Total entries with 'Other' ethnicity: {total_other_entries}\")\n",
    "\n",
    "# Create a histogram\n",
    "labels = ['White', 'Black', 'Asian', 'Other']\n",
    "counts = [total_white_entries, total_black_entries, total_asian_entries, total_other_entries]\n",
    "\n",
    "plt.figure(figsize=(8, 6))  # Adjust figure size\n",
    "plt.bar(labels, counts)\n",
    "plt.xlabel('Ethnicity')\n",
    "plt.ylabel('Count')"
   ]
  },
  {
   "cell_type": "markdown",
   "metadata": {},
   "source": [
    "## Gender Details"
   ]
  },
  {
   "cell_type": "code",
   "execution_count": 27,
   "metadata": {},
   "outputs": [
    {
     "name": "stdout",
     "output_type": "stream",
     "text": [
      "Different values in the 'Gender' column:\n",
      "Male\n",
      "Female\n",
      "nan\n",
      "Other\n"
     ]
    }
   ],
   "source": [
    "import pandas as pd\n",
    "\n",
    "file_path = \"D:\\Old_Courses\\Masters Modules\\Individual Project\\Program\\combined_data.csv\"\n",
    "\n",
    "# Read the CSV file into a DataFrame\n",
    "combined_data = pd.read_csv(file_path)\n",
    "\n",
    "# Retrieve the unique values in the \"Gender\" column\n",
    "gender_values = combined_data[\"Gender\"].unique()\n",
    "\n",
    "# Print the different values\n",
    "print(\"Different values in the 'Gender' column:\")\n",
    "for value in gender_values:\n",
    "    print(value)"
   ]
  },
  {
   "cell_type": "code",
   "execution_count": 29,
   "metadata": {},
   "outputs": [
    {
     "name": "stdout",
     "output_type": "stream",
     "text": [
      "\n",
      "\n",
      "Total entries with 'Male' gender: 1043265\n",
      "Total entries with 'Female' gender: 81938\n",
      "Total entries with 'Other' gender: 783\n"
     ]
    },
    {
     "data": {
      "text/plain": [
       "Text(0, 0.5, 'Count')"
      ]
     },
     "execution_count": 29,
     "metadata": {},
     "output_type": "execute_result"
    },
    {
     "data": {
      "image/png": "[encoded data removed]",
      "text/plain": [
       "<Figure size 576x432 with 1 Axes>"
      ]
     },
     "metadata": {
      "needs_background": "light"
     },
     "output_type": "display_data"
    }
   ],
   "source": [
    "import pandas as pd\n",
    "import matplotlib.pyplot as plt\n",
    "\n",
    "file_path = \"D:\\Old_Courses\\Masters Modules\\Individual Project\\Program\\combined_data.csv\"\n",
    "\n",
    "# Read the CSV file into a DataFrame\n",
    "combined_data = pd.read_csv(file_path)\n",
    "\n",
    "# Fill missing values in the \"Gender\" column with a default value\n",
    "combined_data[\"Gender\"].fillna(\"\", inplace=True)\n",
    "\n",
    "# Filter the DataFrame based on the \"Self-defined ethnicity\" column\n",
    "\n",
    "# Male\n",
    "male_filtered_data = combined_data[combined_data[\"Gender\"].str.contains(\"Male\")]\n",
    "# Female\n",
    "female_filtered_data = combined_data[combined_data[\"Gender\"].str.contains(\"Female\")]\n",
    "# Other\n",
    "other_gender_filtered_data = combined_data[combined_data[\"Gender\"].str.contains(\"Other\")]\n",
    "\n",
    "# Count the number of entries\n",
    "total_male_entries = male_filtered_data.shape[0]\n",
    "total_female_entries = female_filtered_data.shape[0]\n",
    "total_other_gender_entries = other_gender_filtered_data.shape[0]\n",
    "\n",
    "# Print the total counts\n",
    "print(\"\\n\")\n",
    "print(f\"Total entries with 'Male' gender: {total_male_entries}\")\n",
    "print(f\"Total entries with 'Female' gender: {total_female_entries}\")\n",
    "print(f\"Total entries with 'Other' gender: {total_other_gender_entries}\")\n",
    "\n",
    "# Create a histogram\n",
    "labels = ['Male', 'Female', 'Other']\n",
    "counts = [total_male_entries, total_female_entries, total_other_gender_entries]\n",
    "\n",
    "plt.figure(figsize=(8, 6))  # Adjust figure size\n",
    "plt.bar(labels, counts)\n",
    "plt.xlabel('Gender')\n",
    "plt.ylabel('Count')"
   ]
  },
  {
   "cell_type": "markdown",
   "metadata": {},
   "source": [
    "## Age Details"
   ]
  },
  {
   "cell_type": "code",
   "execution_count": 31,
   "metadata": {},
   "outputs": [
    {
     "name": "stdout",
     "output_type": "stream",
     "text": [
      "Different values in the 'Age range' column:\n",
      "18-24\n",
      "over 34\n",
      "25-34\n",
      "nan\n",
      "10-17\n",
      "under 10\n"
     ]
    }
   ],
   "source": [
    "import pandas as pd\n",
    "\n",
    "file_path = \"D:\\Old_Courses\\Masters Modules\\Individual Project\\Program\\combined_data.csv\"\n",
    "\n",
    "# Read the CSV file into a DataFrame\n",
    "combined_data = pd.read_csv(file_path)\n",
    "\n",
    "# Retrieve the unique values in the \"Age\" column\n",
    "gender_values = combined_data[\"Age range\"].unique()\n",
    "\n",
    "# Print the different values\n",
    "print(\"Different values in the 'Age range' column:\")\n",
    "for value in gender_values:\n",
    "    print(value)"
   ]
  },
  {
   "cell_type": "code",
   "execution_count": 34,
   "metadata": {},
   "outputs": [
    {
     "name": "stdout",
     "output_type": "stream",
     "text": [
      "\n",
      "\n",
      "Total entries in the '<10' age range: 256\n",
      "Total entries in the '10-17' age range: 184025\n",
      "Total entries in the '18-24' age range: 373135\n",
      "Total entries in the '25-34' age range: 241893\n",
      "Total entries in the '>34' age range: 189354\n"
     ]
    },
    {
     "data": {
      "text/plain": [
       "Text(0, 0.5, 'Count')"
      ]
     },
     "execution_count": 34,
     "metadata": {},
     "output_type": "execute_result"
    },
    {
     "data": {
      "image/png": "[encoded data removed]",
      "text/plain": [
       "<Figure size 576x432 with 1 Axes>"
      ]
     },
     "metadata": {
      "needs_background": "light"
     },
     "output_type": "display_data"
    }
   ],
   "source": [
    "import pandas as pd\n",
    "import matplotlib.pyplot as plt\n",
    "\n",
    "file_path = \"D:\\Old_Courses\\Masters Modules\\Individual Project\\Program\\combined_data.csv\"\n",
    "\n",
    "# Read the CSV file into a DataFrame\n",
    "combined_data = pd.read_csv(file_path)\n",
    "\n",
    "# Fill missing values in the \"Age range\" column with a default value\n",
    "combined_data[\"Age range\"].fillna(\"\", inplace=True)\n",
    "\n",
    "# Filter the DataFrame based on the \"Age range\" column\n",
    "\n",
    "# Under 10\n",
    "under_ten_filtered_data = combined_data[combined_data[\"Age range\"].str.contains(\"under 10\")]\n",
    "# 10-17\n",
    "ten_seventeen_filtered_data = combined_data[combined_data[\"Age range\"].str.contains(\"10-17\")]\n",
    "# 18-24\n",
    "eighteen_twentyfour_filtered_data = combined_data[combined_data[\"Age range\"].str.contains(\"18-24\")]\n",
    "# 25-34\n",
    "twentyfive_thirtyfour_filtered_data = combined_data[combined_data[\"Age range\"].str.contains(\"25-34\")]\n",
    "# over 34\n",
    "over_thirtyfour_gender_filtered_data = combined_data[combined_data[\"Age range\"].str.contains(\"over 34\")]\n",
    "\n",
    "# Count the number of entries\n",
    "total_u10_entries = under_ten_filtered_data.shape[0]\n",
    "total_10_17_entries = ten_seventeen_filtered_data.shape[0]\n",
    "total_18_24_entries = eighteen_twentyfour_filtered_data.shape[0]\n",
    "total_25_34_entries = twentyfive_thirtyfour_filtered_data.shape[0]\n",
    "total_o34_entries = over_thirtyfour_gender_filtered_data.shape[0]\n",
    "\n",
    "# Print the total counts\n",
    "print(\"\\n\")\n",
    "print(f\"Total entries in the '<10' age range: {total_u10_entries}\")\n",
    "print(f\"Total entries in the '10-17' age range: {total_10_17_entries}\")\n",
    "print(f\"Total entries in the '18-24' age range: {total_18_24_entries}\")\n",
    "print(f\"Total entries in the '25-34' age range: {total_25_34_entries}\")\n",
    "print(f\"Total entries in the '>34' age range: {total_o34_entries}\")\n",
    "\n",
    "# Create a histogram\n",
    "labels = ['<10', '10-17', '18-24', '25-34', '>34']\n",
    "counts = [total_u10_entries, total_10_17_entries, total_18_24_entries, total_25_34_entries, total_o34_entries]\n",
    "\n",
    "plt.figure(figsize=(8, 6))  # Adjust figure size\n",
    "plt.bar(labels, counts)\n",
    "plt.xlabel('Age Range')\n",
    "plt.ylabel('Count')"
   ]
  },
  {
   "cell_type": "code",
   "execution_count": 48,
   "metadata": {},
   "outputs": [
    {
     "name": "stdout",
     "output_type": "stream",
     "text": [
      "    Self-defined ethnicity Age range Gender   Count\n",
      "7                    Black     18-24   Male  102039\n",
      "84                   Other     18-24   Male   78838\n",
      "78                   Other             Male   60834\n",
      "4                    Black     10-17   Male   55956\n",
      "118          White British     18-24   Male   55601\n"
     ]
    },
    {
     "data": {
      "image/png": "[encoded data removed]",
      "text/plain": [
       "<Figure size 576x432 with 1 Axes>"
      ]
     },
     "metadata": {
      "needs_background": "light"
     },
     "output_type": "display_data"
    }
   ],
   "source": [
    "import pandas as pd\n",
    "import matplotlib.pyplot as plt\n",
    "\n",
    "file_path = \"D:\\Old_Courses\\Masters Modules\\Individual Project\\Program\\combined_data_clean.csv\"\n",
    "\n",
    "# Read the CSV file into a DataFrame\n",
    "combined_data = pd.read_csv(file_path)\n",
    "\n",
    "# Fill missing values in the \"Age range\" column with a default value\n",
    "combined_data[\"Age range\"].fillna(\"\", inplace=True)\n",
    "\n",
    "# Group the DataFrame based on \"Self-defined ethnicity\", \"Age range\", and \"Gender\"\n",
    "grouped_data = combined_data.groupby([\"Self-defined ethnicity\", \"Age range\", \"Gender\"]).size().reset_index(name=\"Count\")\n",
    "\n",
    "# Sort the grouped data by count in descending order\n",
    "sorted_data = grouped_data.sort_values(by=\"Count\", ascending=False)\n",
    "\n",
    "# Take only the top 5 largest values\n",
    "top_5_data = sorted_data.head(5)\n",
    "\n",
    "# Print the total counts for each group\n",
    "print(top_5_data)\n",
    "\n",
    "# Create a bar plot\n",
    "plt.figure(figsize=(8, 6))  # Adjust figure size\n",
    "plt.bar(top_5_data.index, top_5_data[\"Count\"])\n",
    "plt.xlabel('Group')\n",
    "plt.ylabel('Count')\n",
    "plt.xticks(top_5_data.index, top_5_data[\"Self-defined ethnicity\"], rotation=90)\n",
    "plt.show()\n"
   ]
  },
  {
   "cell_type": "code",
   "execution_count": null,
   "metadata": {},
   "outputs": [],
   "source": []
  }
 ],
 "metadata": {
  "kernelspec": {
   "display_name": "Python 3",
   "language": "python",
   "name": "python3"
  },
  "language_info": {
   "codemirror_mode": {
    "name": "ipython",
    "version": 3
   },
   "file_extension": ".py",
   "mimetype": "text/x-python",
   "name": "python",
   "nbconvert_exporter": "python",
   "pygments_lexer": "ipython3",
   "version": "3.8.5"
  }
 },
 "nbformat": 4,
 "nbformat_minor": 4
}
